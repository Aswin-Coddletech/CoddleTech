{
 "cells": [
  {
   "cell_type": "code",
   "execution_count": 8,
   "id": "b7d4dd12",
   "metadata": {},
   "outputs": [],
   "source": [
    "from pydrive.auth import GoogleAuth\n",
    "from pydrive.drive import GoogleDrive\n",
    "from oauth2client.service_account import ServiceAccountCredentials\n",
    "\n",
    "scopes = ['https://www.googleapis.com/auth/drive']\n",
    "\n",
    "cred = ServiceAccountCredentials.from_json_keyfile_name('master-coder-315607-16d4e4ff1718.json', scopes)\n",
    "\n",
    "gauth = GoogleAuth()\n",
    "gauth.credentials = cred\n",
    "drive = GoogleDrive(gauth)"
   ]
  },
  {
   "cell_type": "code",
   "execution_count": 9,
   "id": "0fa6b88d",
   "metadata": {},
   "outputs": [],
   "source": [
    "parent_id= '1FGnxDkr1ZcEFY0vIzqy5fQqzUM_aAP8Y'"
   ]
  },
  {
   "cell_type": "code",
   "execution_count": 10,
   "id": "c7fffcdb",
   "metadata": {},
   "outputs": [],
   "source": [
    "# LIST FILES TO G-DRIVE\n",
    "def list_files():\n",
    "    file_list = drive.ListFile({'q': \"'{}' in parents and trashed=false\".format(parent_id)}).GetList()\n",
    "    for file in file_list:\n",
    "        print('title: %s, id: %s' % (file['title'], file['id']))\n",
    "    return file_list\n",
    "\n",
    "files = list_files()\n",
    "\n",
    "for n,file in enumerate(files,1):\n",
    "    print(f'File {n} = {file[\"originalFilename\"]}')"
   ]
  },
  {
   "cell_type": "code",
   "execution_count": null,
   "id": "7c3ff5f4",
   "metadata": {},
   "outputs": [],
   "source": []
  },
  {
   "cell_type": "code",
   "execution_count": 7,
   "id": "da7f211d",
   "metadata": {},
   "outputs": [],
   "source": [
    "from google.oauth2 import service_account\n",
    "\n",
    "SCOPES = ['https://www.googleapis.com/auth/drive.readonly']\n",
    "SERVICE_ACCOUNT_FILE = 'pydriveproject-336407-89a638a438ad.json'\n",
    "\n",
    "credentials = service_account.Credentials.from_service_account_file(\n",
    "        SERVICE_ACCOUNT_FILE, scopes=SCOPES)"
   ]
  },
  {
   "cell_type": "code",
   "execution_count": null,
   "id": "190e71c4",
   "metadata": {},
   "outputs": [],
   "source": [
    "from apiclient.discovery import build\n",
    "\n",
    "service = "
   ]
  },
  {
   "cell_type": "code",
   "execution_count": 13,
   "id": "171fad44",
   "metadata": {},
   "outputs": [],
   "source": [
    "from apiclient.discovery import build\n",
    "from oauth2client.service_account import ServiceAccountCredentials\n",
    "\n",
    "scopes = 'https://www.googleapis.com/auth/drive'\n",
    "\n",
    "cred = ServiceAccountCredentials.from_json_keyfile_name('pydriveproject-336407-89a638a438ad.json', scopes)\n",
    "\n",
    "service = build('drive', 'v3', credentials=cred)"
   ]
  },
  {
   "cell_type": "code",
   "execution_count": null,
   "id": "476fd547",
   "metadata": {},
   "outputs": [],
   "source": []
  },
  {
   "cell_type": "code",
   "execution_count": null,
   "id": "600a67ed",
   "metadata": {},
   "outputs": [],
   "source": []
  },
  {
   "cell_type": "code",
   "execution_count": null,
   "id": "1765ca00",
   "metadata": {},
   "outputs": [],
   "source": []
  }
 ],
 "metadata": {
  "kernelspec": {
   "display_name": "Python 3",
   "language": "python",
   "name": "python3"
  },
  "language_info": {
   "codemirror_mode": {
    "name": "ipython",
    "version": 3
   },
   "file_extension": ".py",
   "mimetype": "text/x-python",
   "name": "python",
   "nbconvert_exporter": "python",
   "pygments_lexer": "ipython3",
   "version": "3.8.10"
  }
 },
 "nbformat": 4,
 "nbformat_minor": 5
}

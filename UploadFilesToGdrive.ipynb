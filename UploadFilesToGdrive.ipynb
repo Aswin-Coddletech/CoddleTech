{
 "cells": [
  {
   "cell_type": "code",
   "execution_count": 92,
   "id": "6e815827",
   "metadata": {},
   "outputs": [],
   "source": [
    "import warnings\n",
    "warnings.filterwarnings('ignore')\n",
    "\n",
    "import pandas as pd\n",
    "import os\n",
    "import io\n",
    "\n",
    "from GoogleService import Folder_Search\n",
    "from GoogleService import Create_Service\n",
    "from googleapiclient.http import MediaIoBaseDownload"
   ]
  },
  {
   "cell_type": "code",
   "execution_count": 93,
   "id": "c05ecb1d",
   "metadata": {},
   "outputs": [
    {
     "data": {
      "text/plain": [
       "'2021-12-21'"
      ]
     },
     "execution_count": 93,
     "metadata": {},
     "output_type": "execute_result"
    }
   ],
   "source": [
    "now"
   ]
  },
  {
   "cell_type": "code",
   "execution_count": 95,
   "id": "30381f3c",
   "metadata": {},
   "outputs": [],
   "source": [
    "os.makedirs(f'01_INPUT_EXCEL/{now}',exist_ok=True)"
   ]
  },
  {
   "cell_type": "code",
   "execution_count": 87,
   "id": "fe36b12b",
   "metadata": {},
   "outputs": [
    {
     "name": "stdout",
     "output_type": "stream",
     "text": [
      "Please visit this URL to authorize this application: https://accounts.google.com/o/oauth2/auth?response_type=code&client_id=138478983145-ultnphrngta7qrno7ruvp5ac0pigep4t.apps.googleusercontent.com&redirect_uri=http%3A%2F%2Flocalhost%3A8080%2F&scope=https%3A%2F%2Fwww.googleapis.com%2Fauth%2Fdrive&state=7a7Pd7Kn4jmDnE2szc1WVqaO97zj42&access_type=offline\n"
     ]
    }
   ],
   "source": [
    "service = Create_Service()"
   ]
  },
  {
   "cell_type": "code",
   "execution_count": 88,
   "id": "19f17611",
   "metadata": {},
   "outputs": [
    {
     "data": {
      "text/plain": [
       "'1FGnxDkr1ZcEFY0vIzqy5fQqzUM_aAP8Y'"
      ]
     },
     "execution_count": 88,
     "metadata": {},
     "output_type": "execute_result"
    }
   ],
   "source": [
    "folder_id = Folder_Search(service,'DataScience/10INPUT/Excel')\n",
    "folder_id"
   ]
  },
  {
   "cell_type": "code",
   "execution_count": 89,
   "id": "bbea6e33",
   "metadata": {},
   "outputs": [
    {
     "data": {
      "text/plain": [
       "'2021-12-21'"
      ]
     },
     "execution_count": 89,
     "metadata": {},
     "output_type": "execute_result"
    }
   ],
   "source": [
    "from datetime import datetime\n",
    "import os\n",
    "\n",
    "now = datetime.now().strftime(\"%Y-%m-%d\")\n",
    "\n",
    "now"
   ]
  },
  {
   "cell_type": "code",
   "execution_count": 90,
   "id": "bec302ea",
   "metadata": {},
   "outputs": [
    {
     "data": {
      "text/plain": [
       "'01_INPUT_EXCEL/2021-12-21'"
      ]
     },
     "execution_count": 90,
     "metadata": {},
     "output_type": "execute_result"
    }
   ],
   "source": [
    "os.path.join(f'01_INPUT_EXCEL/{now}')"
   ]
  },
  {
   "cell_type": "code",
   "execution_count": 91,
   "id": "ed77208c",
   "metadata": {},
   "outputs": [
    {
     "name": "stdout",
     "output_type": "stream",
     "text": [
      "MxInstallmentPayments-2021-12-21T07_02_57.xlsx\n",
      "MxInstallmentPayments-2021-12-21T07_02_50.xlsx\n",
      "MxInstallmentPayments-2021-12-21T07_02_55.xlsx\n",
      "MxInstallmentPayments-2021-12-21T07_02_56-2.xlsx\n"
     ]
    }
   ],
   "source": [
    "response=service.files().list(q=f'mimeType=\"application/vnd.openxmlformats-officedocument.spreadsheetml.sheet\" or mimeType=\"application/vnd.ms-excel\" and \"{folder_id}\" in parents',\n",
    "                                 spaces='drive',\n",
    "                                 fields='nextPageToken,files(id,name)',\n",
    "                                 ).execute()\n",
    "   \n",
    "for file in response.get('files',[]):\n",
    "    file_name = file.get('name')\n",
    "    file_id = file.get('id')\n",
    "    if now in file_name:\n",
    "        print(file_name)\n",
    "#         request=service.files().get_media(fileId=file_id)\n",
    "#         fh = io.BytesIO()\n",
    "#         downloader = MediaIoBaseDownload(fh, request)\n",
    "#         done = False\n",
    "#         while done is False:\n",
    "#             status, done = downloader.next_chunk()\n",
    "#             print(\"Download %d %%.\" % int(status.progress() * 100))\n",
    "\n",
    "#         fh.seek(0)\n",
    "#         with open(os.path.join(f'01_INPUT_EXCEL/{now}',file_name),'wb') as  f:\n",
    "#             f.write(fh.read())\n",
    "#             f.close()"
   ]
  },
  {
   "cell_type": "code",
   "execution_count": 3,
   "id": "a1c53b89",
   "metadata": {},
   "outputs": [],
   "source": [
    "file_name='MxInstallmentPayments-2021-12-21T07_02_50.xlsx'"
   ]
  },
  {
   "cell_type": "code",
   "execution_count": 6,
   "id": "85090fda",
   "metadata": {},
   "outputs": [
    {
     "data": {
      "text/plain": [
       "['MxInstallmentPayments-2021-12-21', '07_02_50.xlsx']"
      ]
     },
     "execution_count": 6,
     "metadata": {},
     "output_type": "execute_result"
    }
   ],
   "source": [
    "file_name.split('T')"
   ]
  },
  {
   "cell_type": "code",
   "execution_count": 7,
   "id": "1bc2dd9a",
   "metadata": {},
   "outputs": [],
   "source": [
    "import re\n",
    "from datetime import datetime"
   ]
  },
  {
   "cell_type": "code",
   "execution_count": 37,
   "id": "c5bcba39",
   "metadata": {},
   "outputs": [
    {
     "data": {
      "text/plain": [
       "'2021-11-08'"
      ]
     },
     "execution_count": 37,
     "metadata": {},
     "output_type": "execute_result"
    }
   ],
   "source": [
    "re.split('s-|T',file_name)[1]"
   ]
  },
  {
   "cell_type": "code",
   "execution_count": 10,
   "id": "b57214a7",
   "metadata": {},
   "outputs": [
    {
     "data": {
      "text/plain": [
       "'MxInstallmentPayments-2021-12-21T22-25-30'"
      ]
     },
     "execution_count": 10,
     "metadata": {},
     "output_type": "execute_result"
    }
   ],
   "source": [
    "file_name.split('T')[0]+'T'+datetime.now().strftime('%H-%M-%S')"
   ]
  },
  {
   "cell_type": "code",
   "execution_count": null,
   "id": "ddfa6948",
   "metadata": {},
   "outputs": [],
   "source": []
  }
 ],
 "metadata": {
  "kernelspec": {
   "display_name": "Python 3",
   "language": "python",
   "name": "python3"
  },
  "language_info": {
   "codemirror_mode": {
    "name": "ipython",
    "version": 3
   },
   "file_extension": ".py",
   "mimetype": "text/x-python",
   "name": "python",
   "nbconvert_exporter": "python",
   "pygments_lexer": "ipython3",
   "version": "3.8.10"
  }
 },
 "nbformat": 4,
 "nbformat_minor": 5
}

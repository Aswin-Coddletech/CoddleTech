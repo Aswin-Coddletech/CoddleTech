{
 "cells": [
  {
   "cell_type": "code",
   "execution_count": 1,
   "id": "80f9d5c3",
   "metadata": {},
   "outputs": [],
   "source": [
    "import warnings\n",
    "warnings.filterwarnings('ignore')\n",
    "\n",
    "import pandas as pd\n",
    "import os\n",
    "import io\n",
    "\n",
    "from GoogleService import Folder_Search\n",
    "from GoogleService import Create_Service\n",
    "from googleapiclient.http import MediaIoBaseDownload"
   ]
  },
  {
   "cell_type": "code",
   "execution_count": 2,
   "id": "e3882dea",
   "metadata": {},
   "outputs": [
    {
     "name": "stderr",
     "output_type": "stream",
     "text": [
      "ERROR:root:'TOKEN'\n"
     ]
    },
    {
     "name": "stdout",
     "output_type": "stream",
     "text": [
      "None\n"
     ]
    }
   ],
   "source": [
    "n_service = Create_Service()\n",
    "print(n_service)"
   ]
  },
  {
   "cell_type": "code",
   "execution_count": 40,
   "id": "f85792c7",
   "metadata": {},
   "outputs": [
    {
     "data": {
      "text/plain": [
       "'1FGnxDkr1ZcEFY0vIzqy5fQqzUM_aAP8Y'"
      ]
     },
     "execution_count": 40,
     "metadata": {},
     "output_type": "execute_result"
    }
   ],
   "source": [
    "folder_id = Folder_Search(n_service,'DataScience/10INPUT/Excel')\n",
    "folder_id"
   ]
  },
  {
   "cell_type": "code",
   "execution_count": null,
   "id": "0c5e55e2",
   "metadata": {},
   "outputs": [],
   "source": []
  },
  {
   "cell_type": "code",
   "execution_count": 9,
   "id": "8d68e046",
   "metadata": {},
   "outputs": [
    {
     "name": "stdout",
     "output_type": "stream",
     "text": [
      "<googleapiclient.discovery.Resource object at 0x00000186D8C152B0>\n"
     ]
    }
   ],
   "source": [
    "\n",
    "# from oauth2client.service_account import ServiceAccountCredentials\n",
    "\n",
    "# scopes = ['https://www.googleapis.com/auth/drive']\n",
    "\n",
    "# cred = ServiceAccountCredentials.from_json_keyfile_name('master-coder-315607-16d4e4ff1718.json', scopes)\n",
    "\n",
    "# service = build('drive', 'v3', credentials=cred)\n",
    "# print(service)"
   ]
  },
  {
   "cell_type": "code",
   "execution_count": 12,
   "id": "2e705f2d",
   "metadata": {},
   "outputs": [
    {
     "data": {
      "text/plain": [
       "<googleapiclient.discovery.Resource at 0x186957d41f0>"
      ]
     },
     "execution_count": 12,
     "metadata": {},
     "output_type": "execute_result"
    }
   ],
   "source": [
    "# import json\n",
    "# from google.oauth2.service_account import Credentials\n",
    "\n",
    "# SCOPES = ['https://www.googleapis.com/auth/drive']\n",
    "\n",
    "# service_account_info = json.load(open('master-coder-315607-16d4e4ff1718.json'))\n",
    "# creds=Credentials.from_service_account_info(\n",
    "#     service_account_info, scopes=SCOPES)\n",
    "\n",
    "# drive_service = build('drive', 'v3', credentials=creds)\n",
    "# drive_service"
   ]
  },
  {
   "cell_type": "code",
   "execution_count": 26,
   "id": "de8c4a6e",
   "metadata": {},
   "outputs": [
    {
     "ename": "ModuleNotFoundError",
     "evalue": "No module named 'oauth2client'",
     "output_type": "error",
     "traceback": [
      "\u001b[0;31m---------------------------------------------------------------------------\u001b[0m",
      "\u001b[0;31mModuleNotFoundError\u001b[0m                       Traceback (most recent call last)",
      "\u001b[0;32m/var/folders/z0/lhy_gc_16z13gfgt7rsyt75w0000gp/T/ipykernel_1611/782319634.py\u001b[0m in \u001b[0;36m<module>\u001b[0;34m\u001b[0m\n\u001b[1;32m      1\u001b[0m \u001b[0;32mfrom\u001b[0m \u001b[0mgoogleapiclient\u001b[0m\u001b[0;34m.\u001b[0m\u001b[0mdiscovery\u001b[0m \u001b[0;32mimport\u001b[0m \u001b[0mbuild\u001b[0m\u001b[0;34m\u001b[0m\u001b[0;34m\u001b[0m\u001b[0m\n\u001b[0;32m----> 2\u001b[0;31m \u001b[0;32mfrom\u001b[0m \u001b[0moauth2client\u001b[0m\u001b[0;34m.\u001b[0m\u001b[0mservice_account\u001b[0m \u001b[0;32mimport\u001b[0m \u001b[0mServiceAccountCredentials\u001b[0m\u001b[0;34m\u001b[0m\u001b[0;34m\u001b[0m\u001b[0m\n\u001b[0m\u001b[1;32m      3\u001b[0m \u001b[0;32mfrom\u001b[0m \u001b[0mhttplib2\u001b[0m \u001b[0;32mimport\u001b[0m \u001b[0mHttp\u001b[0m\u001b[0;34m\u001b[0m\u001b[0;34m\u001b[0m\u001b[0m\n\u001b[1;32m      4\u001b[0m \u001b[0;34m\u001b[0m\u001b[0m\n\u001b[1;32m      5\u001b[0m \u001b[0mscopes\u001b[0m \u001b[0;34m=\u001b[0m \u001b[0;34m[\u001b[0m\u001b[0;34m'https://www.googleapis.com/auth/drive'\u001b[0m\u001b[0;34m]\u001b[0m\u001b[0;34m\u001b[0m\u001b[0;34m\u001b[0m\u001b[0m\n",
      "\u001b[0;31mModuleNotFoundError\u001b[0m: No module named 'oauth2client'"
     ]
    }
   ],
   "source": [
    "from googleapiclient.discovery import build\n",
    "from oauth2client.service_account import ServiceAccountCredentials\n",
    "from httplib2 import Http\n",
    "\n",
    "scopes = ['https://www.googleapis.com/auth/drive']\n",
    "\n",
    "credentials = ServiceAccountCredentials.from_json_keyfile_name('master-coder-315607-f1cd2c450435.json', scopes)\n",
    "\n",
    "http_auth = credentials.authorize(Http())\n",
    "drive = build('drive', 'v3', http=http_auth)\n",
    "\n",
    "print(drive)\n",
    "\n",
    "# request = drive.files().list().execute()\n",
    "# print(request)\n",
    "\n",
    "# results = drive.files().list(pageSize=10, fields=\"nextPageToken, files(id, name)\").execute()\n",
    "# items = results.get('files', [])\n",
    "\n",
    "# if not items:\n",
    "#     print('No files found.')\n",
    "# else:\n",
    "#     print('Files:')\n",
    "#     for item in items:\n",
    "#         print(u'{0} ({1})'.format(item['name'], item['id']))"
   ]
  },
  {
   "cell_type": "code",
   "execution_count": null,
   "id": "70a00eca",
   "metadata": {},
   "outputs": [],
   "source": []
  },
  {
   "cell_type": "code",
   "execution_count": null,
   "id": "a383130e",
   "metadata": {},
   "outputs": [],
   "source": []
  },
  {
   "cell_type": "code",
   "execution_count": null,
   "id": "183049e1",
   "metadata": {},
   "outputs": [],
   "source": [
    "results = service.files().list(pageSize=10, fields=\"nextPageToken, files(id, name)\").execute()items = results.get('files', [])if not items:print('No files found.')else:print('Files:')for item in items:print(u'{0} ({1})'.format(item['name'], item['id']))"
   ]
  },
  {
   "cell_type": "code",
   "execution_count": null,
   "id": "1959e278",
   "metadata": {},
   "outputs": [],
   "source": []
  },
  {
   "cell_type": "code",
   "execution_count": 6,
   "id": "c4d6bdff",
   "metadata": {},
   "outputs": [
    {
     "data": {
      "text/plain": [
       "'1FGnxDkr1ZcEFY0vIzqy5fQqzUM_aAP8Y'"
      ]
     },
     "execution_count": 6,
     "metadata": {},
     "output_type": "execute_result"
    }
   ],
   "source": [
    "folder_id = Folder_Search(service,'DataScience/10INPUT/Excel')\n",
    "folder_id"
   ]
  },
  {
   "cell_type": "code",
   "execution_count": 11,
   "id": "d41086bf",
   "metadata": {},
   "outputs": [
    {
     "name": "stdout",
     "output_type": "stream",
     "text": [
      "<googleapiclient.discovery.Resource object at 0x00000267CADCC5B0>\n"
     ]
    }
   ],
   "source": [
    "from google.oauth2 import service_account\n",
    "from apiclient.discovery import build\n",
    "SCOPES = ['https://www.googleapis.com/auth/drive']\n",
    "SERVICE_ACCOUNT_FILE = 'master-coder-315607-16d4e4ff1718.json'\n",
    "\n",
    "cred = service_account.Credentials.from_service_account_file(\n",
    "        SERVICE_ACCOUNT_FILE, scopes=SCOPES)\n",
    "\n",
    "service = build('drive', 'v3', credentials=cred)\n",
    "print(service)"
   ]
  },
  {
   "cell_type": "code",
   "execution_count": 12,
   "id": "7fcf1354",
   "metadata": {},
   "outputs": [
    {
     "name": "stdout",
     "output_type": "stream",
     "text": [
      "Invalid parent folder name file name!!\n",
      "Invalid file name!!\n"
     ]
    }
   ],
   "source": [
    "folder_id = Folder_Search(service,'DataScience/10INPUT/Excel')\n",
    "folder_id"
   ]
  },
  {
   "cell_type": "code",
   "execution_count": 10,
   "id": "3ee1c84e",
   "metadata": {},
   "outputs": [
    {
     "data": {
      "text/plain": [
       "'1FGnxDkr1ZcEFY0vIzqy5fQqzUM_aAP8Y'"
      ]
     },
     "execution_count": 10,
     "metadata": {},
     "output_type": "execute_result"
    }
   ],
   "source": [
    "folder_id = Folder_Search(n_service,'DataScience/10INPUT/Excel')\n",
    "folder_id"
   ]
  },
  {
   "cell_type": "code",
   "execution_count": null,
   "id": "1cac21e2",
   "metadata": {},
   "outputs": [],
   "source": []
  },
  {
   "cell_type": "code",
   "execution_count": 19,
   "id": "02072926",
   "metadata": {},
   "outputs": [
    {
     "data": {
      "text/plain": [
       "<googleapiclient.discovery.Resource at 0x7fee979b3e20>"
      ]
     },
     "execution_count": 19,
     "metadata": {},
     "output_type": "execute_result"
    }
   ],
   "source": [
    "import os.path\n",
    "\n",
    "from google.auth.transport.requests import Request\n",
    "from google.oauth2.credentials import Credentials\n",
    "from googleapiclient.errors import HttpError\n",
    "from google_auth_oauthlib.flow import InstalledAppFlow\n",
    "from googleapiclient.discovery import build\n",
    "\n",
    "creds = None\n",
    "SCOPES = ['https://www.googleapis.com/auth/drive']\n",
    "\n",
    "if os.path.exists('token.json'):\n",
    "    creds = Credentials.from_authorized_user_file('token.json')\n",
    "    \n",
    "if not creds or not creds.valid:    \n",
    "    if creds and creds.expired and creds.refresh_token:\n",
    "        creds.refresh(Request())\n",
    "        \n",
    "    else:\n",
    "        flow = InstalledAppFlow.from_client_secrets_file(\n",
    "                'client_secrets.json', SCOPES)\n",
    "        creds = flow.run_local_server()\n",
    "        \n",
    "    # Save the credentials for the next run\n",
    "    with open('token.json', 'w') as token:\n",
    "        token.write(creds.to_json())\n",
    "\n",
    "try:\n",
    "    r_service = build('drive', 'v3', credentials=creds)\n",
    "except HttpError as error:\n",
    "    # TODO(developer) - Handle errors from drive API.\n",
    "    print(f'An error occurred: {error}')\n",
    "    \n",
    "r_service"
   ]
  },
  {
   "cell_type": "code",
   "execution_count": 21,
   "id": "3ce2b287",
   "metadata": {},
   "outputs": [
    {
     "data": {
      "text/plain": [
       "'1FGnxDkr1ZcEFY0vIzqy5fQqzUM_aAP8Y'"
      ]
     },
     "execution_count": 21,
     "metadata": {},
     "output_type": "execute_result"
    }
   ],
   "source": [
    "folder_id = Folder_Search(r_service,'DataScience/10INPUT/Excel')\n",
    "folder_id"
   ]
  },
  {
   "cell_type": "code",
   "execution_count": null,
   "id": "78da5ec8",
   "metadata": {},
   "outputs": [],
   "source": []
  },
  {
   "cell_type": "code",
   "execution_count": 22,
   "id": "a966e985",
   "metadata": {},
   "outputs": [],
   "source": [
    "from google.oauth2 import service_account\n",
    "\n",
    "SCOPES = ['https://www.googleapis.com/auth/drive']\n",
    "SERVICE_ACCOUNT_FILE = 'master-coder-315607-f1cd2c450435.json'\n",
    "\n",
    "creds = service_account.Credentials.from_service_account_file(\n",
    "        SERVICE_ACCOUNT_FILE, scopes=SCOPES)"
   ]
  },
  {
   "cell_type": "code",
   "execution_count": 23,
   "id": "08ba0fc7",
   "metadata": {},
   "outputs": [],
   "source": [
    "from googleapiclient.discovery import build\n",
    "\n",
    "service = build('drive', 'v3', credentials=creds)"
   ]
  },
  {
   "cell_type": "code",
   "execution_count": 24,
   "id": "d9bab3ce",
   "metadata": {},
   "outputs": [
    {
     "data": {
      "text/plain": [
       "<googleapiclient.discovery.Resource at 0x7fee987b7460>"
      ]
     },
     "execution_count": 24,
     "metadata": {},
     "output_type": "execute_result"
    }
   ],
   "source": [
    "service"
   ]
  },
  {
   "cell_type": "code",
   "execution_count": 25,
   "id": "a29d3fc9",
   "metadata": {},
   "outputs": [
    {
     "name": "stdout",
     "output_type": "stream",
     "text": [
      "Invalid parent folder name file name!!\n",
      "Invalid file name!!\n"
     ]
    }
   ],
   "source": [
    "folder_id = Folder_Search(service,'DataScience/10INPUT/Excel')\n",
    "folder_id"
   ]
  },
  {
   "cell_type": "code",
   "execution_count": null,
   "id": "a6cdabdb",
   "metadata": {},
   "outputs": [],
   "source": []
  },
  {
   "cell_type": "code",
   "execution_count": 14,
   "id": "6b91c83b",
   "metadata": {},
   "outputs": [
    {
     "ename": "ValueError",
     "evalue": "Could not deserialize key data. The data may be in an incorrect format or it may be encrypted with an unsupported algorithm.",
     "output_type": "error",
     "traceback": [
      "\u001b[0;31m---------------------------------------------------------------------------\u001b[0m",
      "\u001b[0;31mValueError\u001b[0m                                Traceback (most recent call last)",
      "\u001b[0;32m/opt/anaconda3/lib/python3.9/site-packages/jwt/algorithms.py\u001b[0m in \u001b[0;36mprepare_key\u001b[0;34m(self, key)\u001b[0m\n\u001b[1;32m    255\u001b[0m                     \u001b[0;32melse\u001b[0m\u001b[0;34m:\u001b[0m\u001b[0;34m\u001b[0m\u001b[0;34m\u001b[0m\u001b[0m\n\u001b[0;32m--> 256\u001b[0;31m                         \u001b[0mkey\u001b[0m \u001b[0;34m=\u001b[0m \u001b[0mload_pem_private_key\u001b[0m\u001b[0;34m(\u001b[0m\u001b[0mkey\u001b[0m\u001b[0;34m,\u001b[0m \u001b[0mpassword\u001b[0m\u001b[0;34m=\u001b[0m\u001b[0;32mNone\u001b[0m\u001b[0;34m)\u001b[0m\u001b[0;34m\u001b[0m\u001b[0;34m\u001b[0m\u001b[0m\n\u001b[0m\u001b[1;32m    257\u001b[0m                 \u001b[0;32mexcept\u001b[0m \u001b[0mValueError\u001b[0m\u001b[0;34m:\u001b[0m\u001b[0;34m\u001b[0m\u001b[0;34m\u001b[0m\u001b[0m\n",
      "\u001b[0;32m/opt/anaconda3/lib/python3.9/site-packages/cryptography/hazmat/primitives/serialization/base.py\u001b[0m in \u001b[0;36mload_pem_private_key\u001b[0;34m(data, password, backend)\u001b[0m\n\u001b[1;32m     19\u001b[0m     \u001b[0mbackend\u001b[0m \u001b[0;34m=\u001b[0m \u001b[0m_get_backend\u001b[0m\u001b[0;34m(\u001b[0m\u001b[0mbackend\u001b[0m\u001b[0;34m)\u001b[0m\u001b[0;34m\u001b[0m\u001b[0;34m\u001b[0m\u001b[0m\n\u001b[0;32m---> 20\u001b[0;31m     \u001b[0;32mreturn\u001b[0m \u001b[0mbackend\u001b[0m\u001b[0;34m.\u001b[0m\u001b[0mload_pem_private_key\u001b[0m\u001b[0;34m(\u001b[0m\u001b[0mdata\u001b[0m\u001b[0;34m,\u001b[0m \u001b[0mpassword\u001b[0m\u001b[0;34m)\u001b[0m\u001b[0;34m\u001b[0m\u001b[0;34m\u001b[0m\u001b[0m\n\u001b[0m\u001b[1;32m     21\u001b[0m \u001b[0;34m\u001b[0m\u001b[0m\n",
      "\u001b[0;32m/opt/anaconda3/lib/python3.9/site-packages/cryptography/hazmat/backends/openssl/backend.py\u001b[0m in \u001b[0;36mload_pem_private_key\u001b[0;34m(self, data, password)\u001b[0m\n\u001b[1;32m   1216\u001b[0m     \u001b[0;32mdef\u001b[0m \u001b[0mload_pem_private_key\u001b[0m\u001b[0;34m(\u001b[0m\u001b[0mself\u001b[0m\u001b[0;34m,\u001b[0m \u001b[0mdata\u001b[0m\u001b[0;34m,\u001b[0m \u001b[0mpassword\u001b[0m\u001b[0;34m)\u001b[0m\u001b[0;34m:\u001b[0m\u001b[0;34m\u001b[0m\u001b[0;34m\u001b[0m\u001b[0m\n\u001b[0;32m-> 1217\u001b[0;31m         return self._load_key(\n\u001b[0m\u001b[1;32m   1218\u001b[0m             \u001b[0mself\u001b[0m\u001b[0;34m.\u001b[0m\u001b[0m_lib\u001b[0m\u001b[0;34m.\u001b[0m\u001b[0mPEM_read_bio_PrivateKey\u001b[0m\u001b[0;34m,\u001b[0m\u001b[0;34m\u001b[0m\u001b[0;34m\u001b[0m\u001b[0m\n",
      "\u001b[0;32m/opt/anaconda3/lib/python3.9/site-packages/cryptography/hazmat/backends/openssl/backend.py\u001b[0m in \u001b[0;36m_load_key\u001b[0;34m(self, openssl_read_func, convert_func, data, password)\u001b[0m\n\u001b[1;32m   1447\u001b[0m             \u001b[0;32melse\u001b[0m\u001b[0;34m:\u001b[0m\u001b[0;34m\u001b[0m\u001b[0;34m\u001b[0m\u001b[0m\n\u001b[0;32m-> 1448\u001b[0;31m                 \u001b[0mself\u001b[0m\u001b[0;34m.\u001b[0m\u001b[0m_handle_key_loading_error\u001b[0m\u001b[0;34m(\u001b[0m\u001b[0;34m)\u001b[0m\u001b[0;34m\u001b[0m\u001b[0;34m\u001b[0m\u001b[0m\n\u001b[0m\u001b[1;32m   1449\u001b[0m \u001b[0;34m\u001b[0m\u001b[0m\n",
      "\u001b[0;32m/opt/anaconda3/lib/python3.9/site-packages/cryptography/hazmat/backends/openssl/backend.py\u001b[0m in \u001b[0;36m_handle_key_loading_error\u001b[0;34m(self)\u001b[0m\n\u001b[1;32m   1489\u001b[0m         \u001b[0;32melse\u001b[0m\u001b[0;34m:\u001b[0m\u001b[0;34m\u001b[0m\u001b[0;34m\u001b[0m\u001b[0m\n\u001b[0;32m-> 1490\u001b[0;31m             raise ValueError(\n\u001b[0m\u001b[1;32m   1491\u001b[0m                 \u001b[0;34m\"Could not deserialize key data. The data may be in an \"\u001b[0m\u001b[0;34m\u001b[0m\u001b[0;34m\u001b[0m\u001b[0m\n",
      "\u001b[0;31mValueError\u001b[0m: Could not deserialize key data. The data may be in an incorrect format or it may be encrypted with an unsupported algorithm.",
      "\nDuring handling of the above exception, another exception occurred:\n",
      "\u001b[0;31mValueError\u001b[0m                                Traceback (most recent call last)",
      "\u001b[0;32m/var/folders/z0/lhy_gc_16z13gfgt7rsyt75w0000gp/T/ipykernel_1611/3465066458.py\u001b[0m in \u001b[0;36m<module>\u001b[0;34m\u001b[0m\n\u001b[1;32m     11\u001b[0m            'exp': exp}\n\u001b[1;32m     12\u001b[0m \u001b[0madditional_headers\u001b[0m \u001b[0;34m=\u001b[0m \u001b[0;34m{\u001b[0m\u001b[0;34m'kid'\u001b[0m\u001b[0;34m:\u001b[0m \u001b[0mPRIVATE_KEY_FROM_JSON\u001b[0m\u001b[0;34m}\u001b[0m\u001b[0;34m\u001b[0m\u001b[0;34m\u001b[0m\u001b[0m\n\u001b[0;32m---> 13\u001b[0;31m signed_jwt = jwt.encode(payload, PRIVATE_KEY_FROM_JSON, headers=additional_headers,\n\u001b[0m\u001b[1;32m     14\u001b[0m                        algorithm='RS256')\n",
      "\u001b[0;32m/opt/anaconda3/lib/python3.9/site-packages/jwt/api_jwt.py\u001b[0m in \u001b[0;36mencode\u001b[0;34m(self, payload, key, algorithm, headers, json_encoder)\u001b[0m\n\u001b[1;32m     61\u001b[0m         ).encode(\"utf-8\")\n\u001b[1;32m     62\u001b[0m \u001b[0;34m\u001b[0m\u001b[0m\n\u001b[0;32m---> 63\u001b[0;31m         \u001b[0;32mreturn\u001b[0m \u001b[0mapi_jws\u001b[0m\u001b[0;34m.\u001b[0m\u001b[0mencode\u001b[0m\u001b[0;34m(\u001b[0m\u001b[0mjson_payload\u001b[0m\u001b[0;34m,\u001b[0m \u001b[0mkey\u001b[0m\u001b[0;34m,\u001b[0m \u001b[0malgorithm\u001b[0m\u001b[0;34m,\u001b[0m \u001b[0mheaders\u001b[0m\u001b[0;34m,\u001b[0m \u001b[0mjson_encoder\u001b[0m\u001b[0;34m)\u001b[0m\u001b[0;34m\u001b[0m\u001b[0;34m\u001b[0m\u001b[0m\n\u001b[0m\u001b[1;32m     64\u001b[0m \u001b[0;34m\u001b[0m\u001b[0m\n\u001b[1;32m     65\u001b[0m     def decode_complete(\n",
      "\u001b[0;32m/opt/anaconda3/lib/python3.9/site-packages/jwt/api_jws.py\u001b[0m in \u001b[0;36mencode\u001b[0;34m(self, payload, key, algorithm, headers, json_encoder)\u001b[0m\n\u001b[1;32m    108\u001b[0m         \u001b[0;32mtry\u001b[0m\u001b[0;34m:\u001b[0m\u001b[0;34m\u001b[0m\u001b[0;34m\u001b[0m\u001b[0m\n\u001b[1;32m    109\u001b[0m             \u001b[0malg_obj\u001b[0m \u001b[0;34m=\u001b[0m \u001b[0mself\u001b[0m\u001b[0;34m.\u001b[0m\u001b[0m_algorithms\u001b[0m\u001b[0;34m[\u001b[0m\u001b[0malgorithm\u001b[0m\u001b[0;34m]\u001b[0m\u001b[0;34m\u001b[0m\u001b[0;34m\u001b[0m\u001b[0m\n\u001b[0;32m--> 110\u001b[0;31m             \u001b[0mkey\u001b[0m \u001b[0;34m=\u001b[0m \u001b[0malg_obj\u001b[0m\u001b[0;34m.\u001b[0m\u001b[0mprepare_key\u001b[0m\u001b[0;34m(\u001b[0m\u001b[0mkey\u001b[0m\u001b[0;34m)\u001b[0m\u001b[0;34m\u001b[0m\u001b[0;34m\u001b[0m\u001b[0m\n\u001b[0m\u001b[1;32m    111\u001b[0m             \u001b[0msignature\u001b[0m \u001b[0;34m=\u001b[0m \u001b[0malg_obj\u001b[0m\u001b[0;34m.\u001b[0m\u001b[0msign\u001b[0m\u001b[0;34m(\u001b[0m\u001b[0msigning_input\u001b[0m\u001b[0;34m,\u001b[0m \u001b[0mkey\u001b[0m\u001b[0;34m)\u001b[0m\u001b[0;34m\u001b[0m\u001b[0;34m\u001b[0m\u001b[0m\n\u001b[1;32m    112\u001b[0m \u001b[0;34m\u001b[0m\u001b[0m\n",
      "\u001b[0;32m/opt/anaconda3/lib/python3.9/site-packages/jwt/algorithms.py\u001b[0m in \u001b[0;36mprepare_key\u001b[0;34m(self, key)\u001b[0m\n\u001b[1;32m    256\u001b[0m                         \u001b[0mkey\u001b[0m \u001b[0;34m=\u001b[0m \u001b[0mload_pem_private_key\u001b[0m\u001b[0;34m(\u001b[0m\u001b[0mkey\u001b[0m\u001b[0;34m,\u001b[0m \u001b[0mpassword\u001b[0m\u001b[0;34m=\u001b[0m\u001b[0;32mNone\u001b[0m\u001b[0;34m)\u001b[0m\u001b[0;34m\u001b[0m\u001b[0;34m\u001b[0m\u001b[0m\n\u001b[1;32m    257\u001b[0m                 \u001b[0;32mexcept\u001b[0m \u001b[0mValueError\u001b[0m\u001b[0;34m:\u001b[0m\u001b[0;34m\u001b[0m\u001b[0;34m\u001b[0m\u001b[0m\n\u001b[0;32m--> 258\u001b[0;31m                     \u001b[0mkey\u001b[0m \u001b[0;34m=\u001b[0m \u001b[0mload_pem_public_key\u001b[0m\u001b[0;34m(\u001b[0m\u001b[0mkey\u001b[0m\u001b[0;34m)\u001b[0m\u001b[0;34m\u001b[0m\u001b[0;34m\u001b[0m\u001b[0m\n\u001b[0m\u001b[1;32m    259\u001b[0m             \u001b[0;32melse\u001b[0m\u001b[0;34m:\u001b[0m\u001b[0;34m\u001b[0m\u001b[0;34m\u001b[0m\u001b[0m\n\u001b[1;32m    260\u001b[0m                 \u001b[0;32mraise\u001b[0m \u001b[0mTypeError\u001b[0m\u001b[0;34m(\u001b[0m\u001b[0;34m\"Expecting a PEM-formatted key.\"\u001b[0m\u001b[0;34m)\u001b[0m\u001b[0;34m\u001b[0m\u001b[0;34m\u001b[0m\u001b[0m\n",
      "\u001b[0;32m/opt/anaconda3/lib/python3.9/site-packages/cryptography/hazmat/primitives/serialization/base.py\u001b[0m in \u001b[0;36mload_pem_public_key\u001b[0;34m(data, backend)\u001b[0m\n\u001b[1;32m     23\u001b[0m \u001b[0;32mdef\u001b[0m \u001b[0mload_pem_public_key\u001b[0m\u001b[0;34m(\u001b[0m\u001b[0mdata\u001b[0m\u001b[0;34m:\u001b[0m \u001b[0mbytes\u001b[0m\u001b[0;34m,\u001b[0m \u001b[0mbackend\u001b[0m\u001b[0;34m=\u001b[0m\u001b[0;32mNone\u001b[0m\u001b[0;34m)\u001b[0m \u001b[0;34m->\u001b[0m \u001b[0m_PUBLIC_KEY_TYPES\u001b[0m\u001b[0;34m:\u001b[0m\u001b[0;34m\u001b[0m\u001b[0;34m\u001b[0m\u001b[0m\n\u001b[1;32m     24\u001b[0m     \u001b[0mbackend\u001b[0m \u001b[0;34m=\u001b[0m \u001b[0m_get_backend\u001b[0m\u001b[0;34m(\u001b[0m\u001b[0mbackend\u001b[0m\u001b[0;34m)\u001b[0m\u001b[0;34m\u001b[0m\u001b[0;34m\u001b[0m\u001b[0m\n\u001b[0;32m---> 25\u001b[0;31m     \u001b[0;32mreturn\u001b[0m \u001b[0mbackend\u001b[0m\u001b[0;34m.\u001b[0m\u001b[0mload_pem_public_key\u001b[0m\u001b[0;34m(\u001b[0m\u001b[0mdata\u001b[0m\u001b[0;34m)\u001b[0m\u001b[0;34m\u001b[0m\u001b[0;34m\u001b[0m\u001b[0m\n\u001b[0m\u001b[1;32m     26\u001b[0m \u001b[0;34m\u001b[0m\u001b[0m\n\u001b[1;32m     27\u001b[0m \u001b[0;34m\u001b[0m\u001b[0m\n",
      "\u001b[0;32m/opt/anaconda3/lib/python3.9/site-packages/cryptography/hazmat/backends/openssl/backend.py\u001b[0m in \u001b[0;36mload_pem_public_key\u001b[0;34m(self, data)\u001b[0m\n\u001b[1;32m   1245\u001b[0m                 \u001b[0;32mreturn\u001b[0m \u001b[0m_RSAPublicKey\u001b[0m\u001b[0;34m(\u001b[0m\u001b[0mself\u001b[0m\u001b[0;34m,\u001b[0m \u001b[0mrsa_cdata\u001b[0m\u001b[0;34m,\u001b[0m \u001b[0mevp_pkey\u001b[0m\u001b[0;34m)\u001b[0m\u001b[0;34m\u001b[0m\u001b[0;34m\u001b[0m\u001b[0m\n\u001b[1;32m   1246\u001b[0m             \u001b[0;32melse\u001b[0m\u001b[0;34m:\u001b[0m\u001b[0;34m\u001b[0m\u001b[0;34m\u001b[0m\u001b[0m\n\u001b[0;32m-> 1247\u001b[0;31m                 \u001b[0mself\u001b[0m\u001b[0;34m.\u001b[0m\u001b[0m_handle_key_loading_error\u001b[0m\u001b[0;34m(\u001b[0m\u001b[0;34m)\u001b[0m\u001b[0;34m\u001b[0m\u001b[0;34m\u001b[0m\u001b[0m\n\u001b[0m\u001b[1;32m   1248\u001b[0m \u001b[0;34m\u001b[0m\u001b[0m\n\u001b[1;32m   1249\u001b[0m     \u001b[0;32mdef\u001b[0m \u001b[0mload_pem_parameters\u001b[0m\u001b[0;34m(\u001b[0m\u001b[0mself\u001b[0m\u001b[0;34m,\u001b[0m \u001b[0mdata\u001b[0m\u001b[0;34m)\u001b[0m\u001b[0;34m:\u001b[0m\u001b[0;34m\u001b[0m\u001b[0;34m\u001b[0m\u001b[0m\n",
      "\u001b[0;32m/opt/anaconda3/lib/python3.9/site-packages/cryptography/hazmat/backends/openssl/backend.py\u001b[0m in \u001b[0;36m_handle_key_loading_error\u001b[0;34m(self)\u001b[0m\n\u001b[1;32m   1488\u001b[0m \u001b[0;34m\u001b[0m\u001b[0m\n\u001b[1;32m   1489\u001b[0m         \u001b[0;32melse\u001b[0m\u001b[0;34m:\u001b[0m\u001b[0;34m\u001b[0m\u001b[0;34m\u001b[0m\u001b[0m\n\u001b[0;32m-> 1490\u001b[0;31m             raise ValueError(\n\u001b[0m\u001b[1;32m   1491\u001b[0m                 \u001b[0;34m\"Could not deserialize key data. The data may be in an \"\u001b[0m\u001b[0;34m\u001b[0m\u001b[0;34m\u001b[0m\u001b[0m\n\u001b[1;32m   1492\u001b[0m                 \u001b[0;34m\"incorrect format or it may be encrypted with an unsupported \"\u001b[0m\u001b[0;34m\u001b[0m\u001b[0;34m\u001b[0m\u001b[0m\n",
      "\u001b[0;31mValueError\u001b[0m: Could not deserialize key data. The data may be in an incorrect format or it may be encrypted with an unsupported algorithm."
     ]
    }
   ],
   "source": [
    "import time\n",
    "import jwt\n",
    "\n",
    "PRIVATE_KEY_FROM_JSON = '16d4e4ff1718c2c020edca644639094ef7e18529'\n",
    "iat = time.time()\n",
    "exp = iat + 3600\n",
    "payload = {'iss': 'gdriveconnecction@master-coder-315607.iam.gserviceaccount.com',\n",
    "           'sub': 'gdriveconnecction@master-coder-315607.iam.gserviceaccount.com',\n",
    "           'aud': 'https://oauth2.googleapis.com/token',\n",
    "           'iat': iat,\n",
    "           'exp': exp}\n",
    "additional_headers = {'kid': PRIVATE_KEY_FROM_JSON}\n",
    "signed_jwt = jwt.encode(payload, PRIVATE_KEY_FROM_JSON, headers=additional_headers,\n",
    "                       algorithm='RS256')"
   ]
  },
  {
   "cell_type": "code",
   "execution_count": null,
   "id": "561da59a",
   "metadata": {},
   "outputs": [],
   "source": []
  },
  {
   "cell_type": "code",
   "execution_count": null,
   "id": "69abc8a5",
   "metadata": {},
   "outputs": [],
   "source": []
  },
  {
   "cell_type": "code",
   "execution_count": 2,
   "id": "7054a8fd",
   "metadata": {},
   "outputs": [
    {
     "data": {
      "text/plain": [
       "'2021-12-24'"
      ]
     },
     "execution_count": 2,
     "metadata": {},
     "output_type": "execute_result"
    }
   ],
   "source": [
    "from datetime import datetime\n",
    "import os\n",
    "\n",
    "now = datetime.now().strftime(\"%Y-%m-%d\")\n",
    "\n",
    "now"
   ]
  },
  {
   "cell_type": "code",
   "execution_count": 90,
   "id": "40bba23b",
   "metadata": {},
   "outputs": [
    {
     "data": {
      "text/plain": [
       "'01_INPUT_EXCEL/2021-12-21'"
      ]
     },
     "execution_count": 90,
     "metadata": {},
     "output_type": "execute_result"
    }
   ],
   "source": [
    "os.path.join(f'01_INPUT_EXCEL/{now}')"
   ]
  },
  {
   "cell_type": "code",
   "execution_count": 91,
   "id": "4b7652a6",
   "metadata": {},
   "outputs": [
    {
     "name": "stdout",
     "output_type": "stream",
     "text": [
      "MxInstallmentPayments-2021-12-21T07_02_57.xlsx\n",
      "MxInstallmentPayments-2021-12-21T07_02_50.xlsx\n",
      "MxInstallmentPayments-2021-12-21T07_02_55.xlsx\n",
      "MxInstallmentPayments-2021-12-21T07_02_56-2.xlsx\n"
     ]
    }
   ],
   "source": [
    "response=service.files().list(q=f'mimeType=\"application/vnd.openxmlformats-officedocument.spreadsheetml.sheet\" or mimeType=\"application/vnd.ms-excel\" and \"{folder_id}\" in parents',\n",
    "                                 spaces='drive',\n",
    "                                 fields='nextPageToken,files(id,name)',\n",
    "                                 ).execute()\n",
    "   \n",
    "for file in response.get('files',[]):\n",
    "    file_name = file.get('name')\n",
    "    file_id = file.get('id')\n",
    "    if now in file_name:\n",
    "        print(file_name)\n",
    "#         request=service.files().get_media(fileId=file_id)\n",
    "#         fh = io.BytesIO()\n",
    "#         downloader = MediaIoBaseDownload(fh, request)\n",
    "#         done = False\n",
    "#         while done is False:\n",
    "#             status, done = downloader.next_chunk()\n",
    "#             print(\"Download %d %%.\" % int(status.progress() * 100))\n",
    "\n",
    "#         fh.seek(0)\n",
    "#         with open(os.path.join(f'01_INPUT_EXCEL/{now}',file_name),'wb') as  f:\n",
    "#             f.write(fh.read())\n",
    "#             f.close()"
   ]
  },
  {
   "cell_type": "code",
   "execution_count": 3,
   "id": "000dff5f",
   "metadata": {},
   "outputs": [],
   "source": [
    "file_name='MxInstallmentPayments-2021-12-21T07_02_50.xlsx'"
   ]
  },
  {
   "cell_type": "code",
   "execution_count": 14,
   "id": "53b9c99f",
   "metadata": {},
   "outputs": [
    {
     "data": {
      "text/plain": [
       "['MxInstallmentPayments-2021-12-21', '07_02_50.xlsx']"
      ]
     },
     "execution_count": 14,
     "metadata": {},
     "output_type": "execute_result"
    }
   ],
   "source": [
    "file_name.split('T')"
   ]
  },
  {
   "cell_type": "code",
   "execution_count": 13,
   "id": "27abdd71",
   "metadata": {},
   "outputs": [],
   "source": [
    "import re\n",
    "from datetime import datetime"
   ]
  },
  {
   "cell_type": "code",
   "execution_count": 37,
   "id": "a248eab7",
   "metadata": {},
   "outputs": [
    {
     "data": {
      "text/plain": [
       "'2021-11-08'"
      ]
     },
     "execution_count": 37,
     "metadata": {},
     "output_type": "execute_result"
    }
   ],
   "source": [
    "re.split('s-|T',file_name)[1]"
   ]
  },
  {
   "cell_type": "code",
   "execution_count": 17,
   "id": "062863da",
   "metadata": {},
   "outputs": [
    {
     "data": {
      "text/plain": [
       "'MxInstallmentPayments-2021-12-21T11_55_30_435297'"
      ]
     },
     "execution_count": 17,
     "metadata": {},
     "output_type": "execute_result"
    }
   ],
   "source": [
    "file_name.split('T')[0]+'T'+datetime.now().strftime('%H_%M_%S_%f')"
   ]
  },
  {
   "cell_type": "code",
   "execution_count": 24,
   "id": "2b8e61fa",
   "metadata": {},
   "outputs": [
    {
     "data": {
      "text/plain": [
       "'2021-12-23'"
      ]
     },
     "execution_count": 24,
     "metadata": {},
     "output_type": "execute_result"
    }
   ],
   "source": [
    "datetime.now().strftime('%Y-%m-%d')"
   ]
  },
  {
   "cell_type": "code",
   "execution_count": 19,
   "id": "18ee4c4f",
   "metadata": {},
   "outputs": [
    {
     "data": {
      "text/plain": [
       "'2021-12-23'"
      ]
     },
     "execution_count": 19,
     "metadata": {},
     "output_type": "execute_result"
    }
   ],
   "source": [
    "datetime.now().strftime('%F')"
   ]
  },
  {
   "cell_type": "code",
   "execution_count": 42,
   "id": "33d569b7",
   "metadata": {},
   "outputs": [],
   "source": [
    "import chardet"
   ]
  },
  {
   "cell_type": "code",
   "execution_count": 44,
   "id": "bf78c540",
   "metadata": {},
   "outputs": [
    {
     "name": "stdout",
     "output_type": "stream",
     "text": [
      "Encoding : cp1252\n",
      "Encoding with chardet:  (None, 0.0)\n",
      "\n",
      "Encoding : cp1252\n",
      "Encoding with chardet:  ('ascii', 1.0)\n"
     ]
    }
   ],
   "source": [
    "def get_file_encoding(file_path):\n",
    "    \n",
    "    with open(file_path) as src_file:\n",
    "        return src_file.encoding\n",
    "    \n",
    "def get_file_encoding_chardet(file_path):\n",
    "    with open(file_path,'rb') as f:\n",
    "        detect_val = chardet.detect(f.read())\n",
    "        return detect_val['encoding'], detect_val['confidence']\n",
    "    \n",
    "uncoded_file = '01_INPUT_EXCEL/2021-12-23/MxInstallmentPayments-2021-12-23T12_49_26_886713.xlsx'\n",
    "encoded_file = '03_CSV-UTF8-Clean/2021-12-23/MxInstallmentPayments-2021-12-23T12_49_43_633749.csv'\n",
    "\n",
    "print('Encoding :',get_file_encoding(uncoded_file))\n",
    "print('Encoding with chardet: ',get_file_encoding_chardet(uncoded_file))\n",
    "print('\\nEncoding :',get_file_encoding(encoded_file))\n",
    "print('Encoding with chardet: ',get_file_encoding_chardet(encoded_file))"
   ]
  },
  {
   "cell_type": "code",
   "execution_count": 28,
   "id": "d4630b37",
   "metadata": {},
   "outputs": [
    {
     "data": {
      "text/html": [
       "<div>\n",
       "<style scoped>\n",
       "    .dataframe tbody tr th:only-of-type {\n",
       "        vertical-align: middle;\n",
       "    }\n",
       "\n",
       "    .dataframe tbody tr th {\n",
       "        vertical-align: top;\n",
       "    }\n",
       "\n",
       "    .dataframe thead th {\n",
       "        text-align: right;\n",
       "    }\n",
       "</style>\n",
       "<table border=\"1\" class=\"dataframe\">\n",
       "  <thead>\n",
       "    <tr style=\"text-align: right;\">\n",
       "      <th></th>\n",
       "      <th>paymentId</th>\n",
       "      <th>modifiedAt</th>\n",
       "      <th>installmentNumber</th>\n",
       "      <th>installmentPaymentId</th>\n",
       "      <th>status</th>\n",
       "      <th>createdAt</th>\n",
       "      <th>paymentAmount</th>\n",
       "      <th>createdBy</th>\n",
       "      <th>paymentCcy</th>\n",
       "      <th>userId</th>\n",
       "      <th>loanId</th>\n",
       "      <th>orgId</th>\n",
       "      <th>paymentAt</th>\n",
       "      <th>countryId</th>\n",
       "      <th>modifiedBy</th>\n",
       "      <th>Unnamed: 15</th>\n",
       "      <th>Unnamed: 16</th>\n",
       "    </tr>\n",
       "  </thead>\n",
       "  <tbody>\n",
       "    <tr>\n",
       "      <th>0</th>\n",
       "      <td>b2511ec4-cd31-4eb5-91a1-5b1929cd61e4</td>\n",
       "      <td>2021-01-16T05:58:39.267Z</td>\n",
       "      <td>3</td>\n",
       "      <td>51099700-67dc-491c-88de-0172a7c7d83f</td>\n",
       "      <td>PAID</td>\n",
       "      <td>2021-01-16T05:58:39.267Z</td>\n",
       "      <td>190.0</td>\n",
       "      <td>349e7ca9-bb24-4be1-9ae0-d6c5e158b5bf</td>\n",
       "      <td>MXN</td>\n",
       "      <td>349e7ca9-bb24-4be1-9ae0-d6c5e158b5bf</td>\n",
       "      <td>MX-27-2</td>\n",
       "      <td>na</td>\n",
       "      <td>2021-01-16T05:58:36.689Z</td>\n",
       "      <td>mx</td>\n",
       "      <td>349e7ca9-bb24-4be1-9ae0-d6c5e158b5bf</td>\n",
       "      <td>NaN</td>\n",
       "      <td>NaN</td>\n",
       "    </tr>\n",
       "    <tr>\n",
       "      <th>1</th>\n",
       "      <td>af6202c4-d0fc-453a-b4bc-de7ce3132939</td>\n",
       "      <td>2021-04-13T13:57:59.543Z</td>\n",
       "      <td>1</td>\n",
       "      <td>58ae5945-49ca-48e7-8b23-68d45c289719</td>\n",
       "      <td>PAID</td>\n",
       "      <td>2021-04-13T13:57:59.543Z</td>\n",
       "      <td>410.0</td>\n",
       "      <td>1ef4661b-f614-41b4-bcb3-6100df4fd2aa</td>\n",
       "      <td>MXN</td>\n",
       "      <td>1ef4661b-f614-41b4-bcb3-6100df4fd2aa</td>\n",
       "      <td>MX-436-6</td>\n",
       "      <td>na</td>\n",
       "      <td>2021-04-13T13:57:59.332Z</td>\n",
       "      <td>mx</td>\n",
       "      <td>1ef4661b-f614-41b4-bcb3-6100df4fd2aa</td>\n",
       "      <td>NaN</td>\n",
       "      <td>NaN</td>\n",
       "    </tr>\n",
       "  </tbody>\n",
       "</table>\n",
       "</div>"
      ],
      "text/plain": [
       "                              paymentId                modifiedAt  \\\n",
       "0  b2511ec4-cd31-4eb5-91a1-5b1929cd61e4  2021-01-16T05:58:39.267Z   \n",
       "1  af6202c4-d0fc-453a-b4bc-de7ce3132939  2021-04-13T13:57:59.543Z   \n",
       "\n",
       "   installmentNumber                  installmentPaymentId status  \\\n",
       "0                  3  51099700-67dc-491c-88de-0172a7c7d83f   PAID   \n",
       "1                  1  58ae5945-49ca-48e7-8b23-68d45c289719   PAID   \n",
       "\n",
       "                  createdAt  paymentAmount  \\\n",
       "0  2021-01-16T05:58:39.267Z          190.0   \n",
       "1  2021-04-13T13:57:59.543Z          410.0   \n",
       "\n",
       "                              createdBy paymentCcy  \\\n",
       "0  349e7ca9-bb24-4be1-9ae0-d6c5e158b5bf        MXN   \n",
       "1  1ef4661b-f614-41b4-bcb3-6100df4fd2aa        MXN   \n",
       "\n",
       "                                 userId    loanId orgId  \\\n",
       "0  349e7ca9-bb24-4be1-9ae0-d6c5e158b5bf   MX-27-2    na   \n",
       "1  1ef4661b-f614-41b4-bcb3-6100df4fd2aa  MX-436-6    na   \n",
       "\n",
       "                  paymentAt countryId                            modifiedBy  \\\n",
       "0  2021-01-16T05:58:36.689Z        mx  349e7ca9-bb24-4be1-9ae0-d6c5e158b5bf   \n",
       "1  2021-04-13T13:57:59.332Z        mx  1ef4661b-f614-41b4-bcb3-6100df4fd2aa   \n",
       "\n",
       "   Unnamed: 15  Unnamed: 16  \n",
       "0          NaN          NaN  \n",
       "1          NaN          NaN  "
      ]
     },
     "execution_count": 28,
     "metadata": {},
     "output_type": "execute_result"
    }
   ],
   "source": [
    "dd = pd.read_excel('01_INPUT_EXCEL/2021-12-23/MxInstallmentPayments-2021-12-23T12_49_26_886713.xlsx')\n",
    "dd.head(2)"
   ]
  },
  {
   "cell_type": "code",
   "execution_count": null,
   "id": "34c1dd2e",
   "metadata": {},
   "outputs": [],
   "source": []
  },
  {
   "cell_type": "code",
   "execution_count": 29,
   "id": "160e96fa",
   "metadata": {},
   "outputs": [],
   "source": [
    "import glob"
   ]
  },
  {
   "cell_type": "code",
   "execution_count": 37,
   "id": "1fb981c3",
   "metadata": {},
   "outputs": [
    {
     "data": {
      "text/plain": [
       "['01_INPUT_EXCEL/2021-12-23\\\\MxInstallmentPayments-2021-12-23T12_49_26_886713.xlsx',\n",
       " '01_INPUT_EXCEL/2021-12-23\\\\MxInstallmentPayments-2021-12-23T12_49_29_091769.xlsx',\n",
       " '01_INPUT_EXCEL/2021-12-23\\\\MxInstallmentPayments-2021-12-23T12_49_31_551353.xlsx',\n",
       " '01_INPUT_EXCEL/2021-12-23\\\\MxInstallmentPayments-2021-12-23T12_49_34_054147.xlsx']"
      ]
     },
     "execution_count": 37,
     "metadata": {},
     "output_type": "execute_result"
    }
   ],
   "source": [
    "glob.glob('01_INPUT_EXCEL/2021-12-23/*')"
   ]
  },
  {
   "cell_type": "code",
   "execution_count": null,
   "id": "daaef9e7",
   "metadata": {},
   "outputs": [],
   "source": []
  },
  {
   "cell_type": "code",
   "execution_count": 38,
   "id": "fe8311db",
   "metadata": {},
   "outputs": [
    {
     "name": "stdout",
     "output_type": "stream",
     "text": [
      "Collecting cchardet\n",
      "  Downloading cchardet-2.1.7-cp38-cp38-win_amd64.whl (115 kB)\n",
      "Installing collected packages: cchardet\n",
      "Successfully installed cchardet-2.1.7\n"
     ]
    }
   ],
   "source": [
    "# !pip install cchardet"
   ]
  },
  {
   "cell_type": "markdown",
   "id": "15448062",
   "metadata": {},
   "source": [
    "#### Cheching Confidence of File Encode Value"
   ]
  },
  {
   "cell_type": "code",
   "execution_count": 1,
   "id": "94192e54",
   "metadata": {},
   "outputs": [
    {
     "name": "stdout",
     "output_type": "stream",
     "text": [
      "Encoding was detected as ASCII with confidence :1.0\n"
     ]
    }
   ],
   "source": [
    "import cchardet as cdet\n",
    "from pathlib import Path\n",
    "import sys\n",
    "\n",
    "def read_confidently(filename):\n",
    "    filepath = Path(filename)\n",
    "    \n",
    "    blob= filepath.read_bytes()\n",
    "    \n",
    "    detection = cdet.detect(blob)\n",
    "    encoding = detection[\"encoding\"]\n",
    "    confidence = detection[\"confidence\"]\n",
    "    text = blob.decode(encoding)\n",
    "\n",
    "    return text, encoding, confidence\n",
    "\n",
    "def main(filename):\n",
    "    text, encoding, confidence = read_confidently(filename)\n",
    "    #print(text)\n",
    "    print(f\"Encoding was detected as {encoding} with confidence :{confidence}\")\n",
    "    if confidence < 0.6:\n",
    "        print(f\"Warning: confidence was only {confidence}!\")\n",
    "        print(\"Please double-check output for accuracy.\")\n",
    "\n",
    "filename = '03_CSV-UTF8-Clean/2021-12-23/MxInstallmentPayments-2021-12-23T12_49_43_633749.csv'\n",
    "\n",
    "main(filename)"
   ]
  },
  {
   "cell_type": "markdown",
   "id": "8ab06656",
   "metadata": {},
   "source": [
    "#### open"
   ]
  },
  {
   "cell_type": "code",
   "execution_count": 3,
   "id": "1f1b6f8d",
   "metadata": {},
   "outputs": [
    {
     "ename": "TypeError",
     "evalue": "write() argument must be str, not bytes",
     "output_type": "error",
     "traceback": [
      "\u001b[1;31m---------------------------------------------------------------------------\u001b[0m",
      "\u001b[1;31mTypeError\u001b[0m                                 Traceback (most recent call last)",
      "\u001b[1;32m<ipython-input-3-9500205199a1>\u001b[0m in \u001b[0;36m<module>\u001b[1;34m\u001b[0m\n\u001b[0;32m      6\u001b[0m     \u001b[1;32mwith\u001b[0m \u001b[0mopen\u001b[0m\u001b[1;33m(\u001b[0m\u001b[0mout_path\u001b[0m\u001b[1;33m,\u001b[0m\u001b[1;34m'w'\u001b[0m\u001b[1;33m,\u001b[0m\u001b[0mencoding\u001b[0m\u001b[1;33m=\u001b[0m\u001b[1;34m'utf-8'\u001b[0m\u001b[1;33m)\u001b[0m \u001b[1;32mas\u001b[0m \u001b[0mout_file\u001b[0m\u001b[1;33m:\u001b[0m\u001b[1;33m\u001b[0m\u001b[1;33m\u001b[0m\u001b[0m\n\u001b[0;32m      7\u001b[0m         \u001b[0mread_file\u001b[0m \u001b[1;33m=\u001b[0m \u001b[0minp_file\u001b[0m\u001b[1;33m.\u001b[0m\u001b[0mread\u001b[0m\u001b[1;33m(\u001b[0m\u001b[1;33m)\u001b[0m\u001b[1;33m\u001b[0m\u001b[1;33m\u001b[0m\u001b[0m\n\u001b[1;32m----> 8\u001b[1;33m         \u001b[0mout_file\u001b[0m\u001b[1;33m.\u001b[0m\u001b[0mwrite\u001b[0m\u001b[1;33m(\u001b[0m\u001b[0mread_file\u001b[0m\u001b[1;33m)\u001b[0m\u001b[1;33m\u001b[0m\u001b[1;33m\u001b[0m\u001b[0m\n\u001b[0m",
      "\u001b[1;31mTypeError\u001b[0m: write() argument must be str, not bytes"
     ]
    }
   ],
   "source": [
    "now = datetime.now().strftime('%F_%H-%M-%S')\n",
    "inp_path='01_INPUT_EXCEL/2021-12-23/MxInstallmentPayments-2021-12-23T12_49_26_886713.xlsx'\n",
    "out_path=f'Files/Encoded/Mxinstallments_{now}.xlsx'\n",
    "\n",
    "with open(inp_path,'rb') as inp_file:\n",
    "    with open(out_path,'w',encoding='utf-8') as out_file:\n",
    "        read_file = inp_file.read()\n",
    "        out_file.write(read_file)"
   ]
  },
  {
   "cell_type": "code",
   "execution_count": 4,
   "id": "a6c3ae7d",
   "metadata": {},
   "outputs": [
    {
     "name": "stdout",
     "output_type": "stream",
     "text": [
      "['MxInstallmentPayments-2021-12-23T12_49_26_886713.xlsx', 'MxInstallmentPayments-2021-12-23T12_49_29_091769.xlsx', 'MxInstallmentPayments-2021-12-23T12_49_31_551353.xlsx', 'MxInstallmentPayments-2021-12-23T12_49_34_054147.xlsx']\n"
     ]
    }
   ],
   "source": [
    "from os import listdir\n",
    "from os.path import isfile, join\n",
    "\n",
    "mypath= '01_INPUT_EXCEL/2021-12-23/'\n",
    "onlyfiles = [f for f in listdir(mypath) if isfile(join(mypath, f))]\n",
    "print(onlyfiles)"
   ]
  },
  {
   "cell_type": "code",
   "execution_count": 10,
   "id": "69db407e",
   "metadata": {},
   "outputs": [
    {
     "ename": "UnicodeEncodeError",
     "evalue": "'charmap' codec can't encode character '\\u03fc' in position 105: character maps to <undefined>",
     "output_type": "error",
     "traceback": [
      "\u001b[1;31m---------------------------------------------------------------------------\u001b[0m",
      "\u001b[1;31mUnicodeEncodeError\u001b[0m                        Traceback (most recent call last)",
      "\u001b[1;32m<ipython-input-10-84c4440c915e>\u001b[0m in \u001b[0;36m<module>\u001b[1;34m\u001b[0m\n\u001b[0;32m      2\u001b[0m     \u001b[1;32mwith\u001b[0m \u001b[0mopen\u001b[0m\u001b[1;33m(\u001b[0m\u001b[1;34m'01_INPUT_EXCEL/2021-12-23/'\u001b[0m\u001b[1;33m+\u001b[0m\u001b[0mfile\u001b[0m\u001b[1;33m,\u001b[0m\u001b[1;34m'r'\u001b[0m\u001b[1;33m,\u001b[0m\u001b[0mencoding\u001b[0m\u001b[1;33m=\u001b[0m\u001b[1;34m'utf-8'\u001b[0m\u001b[1;33m,\u001b[0m\u001b[0merrors\u001b[0m\u001b[1;33m=\u001b[0m\u001b[1;34m'ignore'\u001b[0m\u001b[1;33m)\u001b[0m \u001b[1;32mas\u001b[0m \u001b[0minfile\u001b[0m\u001b[1;33m,\u001b[0m \u001b[0mopen\u001b[0m\u001b[1;33m(\u001b[0m\u001b[1;34m'Files/Encoded'\u001b[0m\u001b[1;33m+\u001b[0m\u001b[0mfile\u001b[0m\u001b[1;33m,\u001b[0m\u001b[1;34m'w'\u001b[0m\u001b[1;33m)\u001b[0m \u001b[1;32mas\u001b[0m \u001b[0moutfile\u001b[0m\u001b[1;33m:\u001b[0m\u001b[1;33m\u001b[0m\u001b[1;33m\u001b[0m\u001b[0m\n\u001b[0;32m      3\u001b[0m         \u001b[0minputs\u001b[0m \u001b[1;33m=\u001b[0m \u001b[0minfile\u001b[0m\u001b[1;33m.\u001b[0m\u001b[0mread\u001b[0m\u001b[1;33m(\u001b[0m\u001b[1;33m)\u001b[0m\u001b[1;33m\u001b[0m\u001b[1;33m\u001b[0m\u001b[0m\n\u001b[1;32m----> 4\u001b[1;33m         \u001b[0moutfile\u001b[0m\u001b[1;33m.\u001b[0m\u001b[0mwrite\u001b[0m\u001b[1;33m(\u001b[0m\u001b[0minputs\u001b[0m\u001b[1;33m)\u001b[0m\u001b[1;33m\u001b[0m\u001b[1;33m\u001b[0m\u001b[0m\n\u001b[0m",
      "\u001b[1;32m~\\Anaconda3\\envs\\CoddleTech\\lib\\encodings\\cp1252.py\u001b[0m in \u001b[0;36mencode\u001b[1;34m(self, input, final)\u001b[0m\n\u001b[0;32m     17\u001b[0m \u001b[1;32mclass\u001b[0m \u001b[0mIncrementalEncoder\u001b[0m\u001b[1;33m(\u001b[0m\u001b[0mcodecs\u001b[0m\u001b[1;33m.\u001b[0m\u001b[0mIncrementalEncoder\u001b[0m\u001b[1;33m)\u001b[0m\u001b[1;33m:\u001b[0m\u001b[1;33m\u001b[0m\u001b[1;33m\u001b[0m\u001b[0m\n\u001b[0;32m     18\u001b[0m     \u001b[1;32mdef\u001b[0m \u001b[0mencode\u001b[0m\u001b[1;33m(\u001b[0m\u001b[0mself\u001b[0m\u001b[1;33m,\u001b[0m \u001b[0minput\u001b[0m\u001b[1;33m,\u001b[0m \u001b[0mfinal\u001b[0m\u001b[1;33m=\u001b[0m\u001b[1;32mFalse\u001b[0m\u001b[1;33m)\u001b[0m\u001b[1;33m:\u001b[0m\u001b[1;33m\u001b[0m\u001b[1;33m\u001b[0m\u001b[0m\n\u001b[1;32m---> 19\u001b[1;33m         \u001b[1;32mreturn\u001b[0m \u001b[0mcodecs\u001b[0m\u001b[1;33m.\u001b[0m\u001b[0mcharmap_encode\u001b[0m\u001b[1;33m(\u001b[0m\u001b[0minput\u001b[0m\u001b[1;33m,\u001b[0m\u001b[0mself\u001b[0m\u001b[1;33m.\u001b[0m\u001b[0merrors\u001b[0m\u001b[1;33m,\u001b[0m\u001b[0mencoding_table\u001b[0m\u001b[1;33m)\u001b[0m\u001b[1;33m[\u001b[0m\u001b[1;36m0\u001b[0m\u001b[1;33m]\u001b[0m\u001b[1;33m\u001b[0m\u001b[1;33m\u001b[0m\u001b[0m\n\u001b[0m\u001b[0;32m     20\u001b[0m \u001b[1;33m\u001b[0m\u001b[0m\n\u001b[0;32m     21\u001b[0m \u001b[1;32mclass\u001b[0m \u001b[0mIncrementalDecoder\u001b[0m\u001b[1;33m(\u001b[0m\u001b[0mcodecs\u001b[0m\u001b[1;33m.\u001b[0m\u001b[0mIncrementalDecoder\u001b[0m\u001b[1;33m)\u001b[0m\u001b[1;33m:\u001b[0m\u001b[1;33m\u001b[0m\u001b[1;33m\u001b[0m\u001b[0m\n",
      "\u001b[1;31mUnicodeEncodeError\u001b[0m: 'charmap' codec can't encode character '\\u03fc' in position 105: character maps to <undefined>"
     ]
    }
   ],
   "source": [
    "for file in onlyfiles:\n",
    "    with open('01_INPUT_EXCEL/2021-12-23/'+file,'r',encoding='utf-8',errors='ignore') as infile, open('Files/Encoded'+file,'w') as outfile:\n",
    "        inputs = infile.read()\n",
    "        outfile.write(inputs)"
   ]
  },
  {
   "cell_type": "markdown",
   "id": "9a5247e9",
   "metadata": {},
   "source": [
    "#### Codecs"
   ]
  },
  {
   "cell_type": "code",
   "execution_count": 7,
   "id": "3432883b",
   "metadata": {},
   "outputs": [],
   "source": [
    "import codecs"
   ]
  },
  {
   "cell_type": "code",
   "execution_count": 9,
   "id": "35b458f7",
   "metadata": {},
   "outputs": [
    {
     "ename": "UnicodeEncodeError",
     "evalue": "'charmap' codec can't encode character '\\u03fc' in position 105: character maps to <undefined>",
     "output_type": "error",
     "traceback": [
      "\u001b[1;31m---------------------------------------------------------------------------\u001b[0m",
      "\u001b[1;31mUnicodeEncodeError\u001b[0m                        Traceback (most recent call last)",
      "\u001b[1;32m<ipython-input-9-d54530ab911b>\u001b[0m in \u001b[0;36m<module>\u001b[1;34m\u001b[0m\n\u001b[0;32m      2\u001b[0m     \u001b[1;32mwith\u001b[0m \u001b[0mcodecs\u001b[0m\u001b[1;33m.\u001b[0m\u001b[0mopen\u001b[0m\u001b[1;33m(\u001b[0m\u001b[1;34m'01_INPUT_EXCEL/2021-12-23/'\u001b[0m\u001b[1;33m+\u001b[0m\u001b[0mfile\u001b[0m\u001b[1;33m,\u001b[0m\u001b[1;34m'r'\u001b[0m\u001b[1;33m,\u001b[0m\u001b[0mencoding\u001b[0m\u001b[1;33m=\u001b[0m\u001b[1;34m'utf-8'\u001b[0m\u001b[1;33m,\u001b[0m\u001b[0merrors\u001b[0m\u001b[1;33m=\u001b[0m\u001b[1;34m'ignore'\u001b[0m\u001b[1;33m)\u001b[0m \u001b[1;32mas\u001b[0m \u001b[0minfile\u001b[0m\u001b[1;33m,\u001b[0m \u001b[0mcodecs\u001b[0m\u001b[1;33m.\u001b[0m\u001b[0mopen\u001b[0m\u001b[1;33m(\u001b[0m\u001b[1;34m'Files/Encoded'\u001b[0m\u001b[1;33m+\u001b[0m\u001b[0mfile\u001b[0m\u001b[1;33m,\u001b[0m\u001b[1;34m'w'\u001b[0m\u001b[1;33m)\u001b[0m \u001b[1;32mas\u001b[0m \u001b[0moutfile\u001b[0m\u001b[1;33m:\u001b[0m\u001b[1;33m\u001b[0m\u001b[1;33m\u001b[0m\u001b[0m\n\u001b[0;32m      3\u001b[0m         \u001b[0minputs\u001b[0m \u001b[1;33m=\u001b[0m \u001b[0minfile\u001b[0m\u001b[1;33m.\u001b[0m\u001b[0mread\u001b[0m\u001b[1;33m(\u001b[0m\u001b[1;33m)\u001b[0m\u001b[1;33m\u001b[0m\u001b[1;33m\u001b[0m\u001b[0m\n\u001b[1;32m----> 4\u001b[1;33m         \u001b[0moutfile\u001b[0m\u001b[1;33m.\u001b[0m\u001b[0mwrite\u001b[0m\u001b[1;33m(\u001b[0m\u001b[0minputs\u001b[0m\u001b[1;33m)\u001b[0m\u001b[1;33m\u001b[0m\u001b[1;33m\u001b[0m\u001b[0m\n\u001b[0m",
      "\u001b[1;32m~\\Anaconda3\\envs\\CoddleTech\\lib\\encodings\\cp1252.py\u001b[0m in \u001b[0;36mencode\u001b[1;34m(self, input, final)\u001b[0m\n\u001b[0;32m     17\u001b[0m \u001b[1;32mclass\u001b[0m \u001b[0mIncrementalEncoder\u001b[0m\u001b[1;33m(\u001b[0m\u001b[0mcodecs\u001b[0m\u001b[1;33m.\u001b[0m\u001b[0mIncrementalEncoder\u001b[0m\u001b[1;33m)\u001b[0m\u001b[1;33m:\u001b[0m\u001b[1;33m\u001b[0m\u001b[1;33m\u001b[0m\u001b[0m\n\u001b[0;32m     18\u001b[0m     \u001b[1;32mdef\u001b[0m \u001b[0mencode\u001b[0m\u001b[1;33m(\u001b[0m\u001b[0mself\u001b[0m\u001b[1;33m,\u001b[0m \u001b[0minput\u001b[0m\u001b[1;33m,\u001b[0m \u001b[0mfinal\u001b[0m\u001b[1;33m=\u001b[0m\u001b[1;32mFalse\u001b[0m\u001b[1;33m)\u001b[0m\u001b[1;33m:\u001b[0m\u001b[1;33m\u001b[0m\u001b[1;33m\u001b[0m\u001b[0m\n\u001b[1;32m---> 19\u001b[1;33m         \u001b[1;32mreturn\u001b[0m \u001b[0mcodecs\u001b[0m\u001b[1;33m.\u001b[0m\u001b[0mcharmap_encode\u001b[0m\u001b[1;33m(\u001b[0m\u001b[0minput\u001b[0m\u001b[1;33m,\u001b[0m\u001b[0mself\u001b[0m\u001b[1;33m.\u001b[0m\u001b[0merrors\u001b[0m\u001b[1;33m,\u001b[0m\u001b[0mencoding_table\u001b[0m\u001b[1;33m)\u001b[0m\u001b[1;33m[\u001b[0m\u001b[1;36m0\u001b[0m\u001b[1;33m]\u001b[0m\u001b[1;33m\u001b[0m\u001b[1;33m\u001b[0m\u001b[0m\n\u001b[0m\u001b[0;32m     20\u001b[0m \u001b[1;33m\u001b[0m\u001b[0m\n\u001b[0;32m     21\u001b[0m \u001b[1;32mclass\u001b[0m \u001b[0mIncrementalDecoder\u001b[0m\u001b[1;33m(\u001b[0m\u001b[0mcodecs\u001b[0m\u001b[1;33m.\u001b[0m\u001b[0mIncrementalDecoder\u001b[0m\u001b[1;33m)\u001b[0m\u001b[1;33m:\u001b[0m\u001b[1;33m\u001b[0m\u001b[1;33m\u001b[0m\u001b[0m\n",
      "\u001b[1;31mUnicodeEncodeError\u001b[0m: 'charmap' codec can't encode character '\\u03fc' in position 105: character maps to <undefined>"
     ]
    }
   ],
   "source": [
    "for file in onlyfiles:\n",
    "    with codecs.open('01_INPUT_EXCEL/2021-12-23/'+file,'r',encoding='utf-8',errors='ignore') as infile, codecs.open('Files/Encoded'+file,'w') as outfile:\n",
    "        inputs = infile.read()\n",
    "        outfile.write(inputs)"
   ]
  },
  {
   "cell_type": "code",
   "execution_count": null,
   "id": "fb811dd8",
   "metadata": {},
   "outputs": [],
   "source": []
  },
  {
   "cell_type": "code",
   "execution_count": 12,
   "id": "29529beb",
   "metadata": {},
   "outputs": [
    {
     "data": {
      "text/html": [
       "<div>\n",
       "<style scoped>\n",
       "    .dataframe tbody tr th:only-of-type {\n",
       "        vertical-align: middle;\n",
       "    }\n",
       "\n",
       "    .dataframe tbody tr th {\n",
       "        vertical-align: top;\n",
       "    }\n",
       "\n",
       "    .dataframe thead th {\n",
       "        text-align: right;\n",
       "    }\n",
       "</style>\n",
       "<table border=\"1\" class=\"dataframe\">\n",
       "  <thead>\n",
       "    <tr style=\"text-align: right;\">\n",
       "      <th></th>\n",
       "      <th>paymentId</th>\n",
       "      <th>modifiedAt</th>\n",
       "      <th>installmentNumber</th>\n",
       "      <th>installmentPaymentId</th>\n",
       "      <th>status</th>\n",
       "      <th>createdAt</th>\n",
       "      <th>paymentAmount</th>\n",
       "      <th>createdBy</th>\n",
       "      <th>paymentCcy</th>\n",
       "      <th>userId</th>\n",
       "      <th>loanId</th>\n",
       "      <th>paymentAt</th>\n",
       "      <th>countryId</th>\n",
       "      <th>modifiedBy</th>\n",
       "    </tr>\n",
       "  </thead>\n",
       "  <tbody>\n",
       "    <tr>\n",
       "      <th>0</th>\n",
       "      <td>b2511ec4-cd31-4eb5-91a1-5b1929cd61e4</td>\n",
       "      <td>2021-01-16T05:58:39.267Z</td>\n",
       "      <td>3.0</td>\n",
       "      <td>51099700-67dc-491c-88de-0172a7c7d83f</td>\n",
       "      <td>PAID</td>\n",
       "      <td>2021-01-16T05:58:39.267Z</td>\n",
       "      <td>190.0</td>\n",
       "      <td>349e7ca9-bb24-4be1-9ae0-d6c5e158b5bf</td>\n",
       "      <td>MXN</td>\n",
       "      <td>349e7ca9-bb24-4be1-9ae0-d6c5e158b5bf</td>\n",
       "      <td>MX-27-2</td>\n",
       "      <td>2021-01-16T05:58:36.689Z</td>\n",
       "      <td>mx</td>\n",
       "      <td>349e7ca9-bb24-4be1-9ae0-d6c5e158b5bf</td>\n",
       "    </tr>\n",
       "    <tr>\n",
       "      <th>1</th>\n",
       "      <td>af6202c4-d0fc-453a-b4bc-de7ce3132939</td>\n",
       "      <td>2021-04-13T13:57:59.543Z</td>\n",
       "      <td>1.0</td>\n",
       "      <td>58ae5945-49ca-48e7-8b23-68d45c289719</td>\n",
       "      <td>PAID</td>\n",
       "      <td>2021-04-13T13:57:59.543Z</td>\n",
       "      <td>410.0</td>\n",
       "      <td>1ef4661b-f614-41b4-bcb3-6100df4fd2aa</td>\n",
       "      <td>MXN</td>\n",
       "      <td>1ef4661b-f614-41b4-bcb3-6100df4fd2aa</td>\n",
       "      <td>MX-436-6</td>\n",
       "      <td>2021-04-13T13:57:59.332Z</td>\n",
       "      <td>mx</td>\n",
       "      <td>1ef4661b-f614-41b4-bcb3-6100df4fd2aa</td>\n",
       "    </tr>\n",
       "  </tbody>\n",
       "</table>\n",
       "</div>"
      ],
      "text/plain": [
       "                              paymentId                modifiedAt  \\\n",
       "0  b2511ec4-cd31-4eb5-91a1-5b1929cd61e4  2021-01-16T05:58:39.267Z   \n",
       "1  af6202c4-d0fc-453a-b4bc-de7ce3132939  2021-04-13T13:57:59.543Z   \n",
       "\n",
       "   installmentNumber                  installmentPaymentId status  \\\n",
       "0                3.0  51099700-67dc-491c-88de-0172a7c7d83f   PAID   \n",
       "1                1.0  58ae5945-49ca-48e7-8b23-68d45c289719   PAID   \n",
       "\n",
       "                  createdAt  paymentAmount  \\\n",
       "0  2021-01-16T05:58:39.267Z          190.0   \n",
       "1  2021-04-13T13:57:59.543Z          410.0   \n",
       "\n",
       "                              createdBy paymentCcy  \\\n",
       "0  349e7ca9-bb24-4be1-9ae0-d6c5e158b5bf        MXN   \n",
       "1  1ef4661b-f614-41b4-bcb3-6100df4fd2aa        MXN   \n",
       "\n",
       "                                 userId    loanId                 paymentAt  \\\n",
       "0  349e7ca9-bb24-4be1-9ae0-d6c5e158b5bf   MX-27-2  2021-01-16T05:58:36.689Z   \n",
       "1  1ef4661b-f614-41b4-bcb3-6100df4fd2aa  MX-436-6  2021-04-13T13:57:59.332Z   \n",
       "\n",
       "  countryId                            modifiedBy  \n",
       "0        mx  349e7ca9-bb24-4be1-9ae0-d6c5e158b5bf  \n",
       "1        mx  1ef4661b-f614-41b4-bcb3-6100df4fd2aa  "
      ]
     },
     "execution_count": 12,
     "metadata": {},
     "output_type": "execute_result"
    }
   ],
   "source": [
    "import pandas as pd\n",
    "\n",
    "dd = pd.read_csv('03_CSV-UTF8-Clean/2021-12-23/MxInstallmentPayments-2021-12-23T12_49_43_633749.csv')\n",
    "dd.head(2)"
   ]
  },
  {
   "cell_type": "code",
   "execution_count": 16,
   "id": "ff43c2ce",
   "metadata": {},
   "outputs": [],
   "source": [
    "dd.to_json('Files/csvToJSON.json',orient='records')"
   ]
  },
  {
   "cell_type": "code",
   "execution_count": 18,
   "id": "96efe6f1",
   "metadata": {},
   "outputs": [],
   "source": [
    "dd.to_json('Files/csvToJSON_FN.json',orient='records',force_ascii=False)"
   ]
  },
  {
   "cell_type": "code",
   "execution_count": null,
   "id": "c37b9544",
   "metadata": {},
   "outputs": [],
   "source": []
  },
  {
   "cell_type": "code",
   "execution_count": 1,
   "id": "b2fcdaa3",
   "metadata": {},
   "outputs": [],
   "source": [
    "import os.path\n",
    "import logging\n",
    "import json\n",
    "import dotenv\n",
    "from googleapiclient.discovery import build\n",
    "from google_auth_oauthlib.flow import InstalledAppFlow\n",
    "from google.auth.transport.requests import Request\n",
    "from google.oauth2.credentials import Credentials\n",
    "from google.oauth2 import service_account\n",
    "from datetime import date\n",
    "from dotenv import load_dotenv\n",
    "# S3 CONFIGURATION\n",
    "from googleapiclient.http import MediaFileUpload"
   ]
  },
  {
   "cell_type": "code",
   "execution_count": 5,
   "id": "ef537d49",
   "metadata": {},
   "outputs": [],
   "source": [
    "dotenv_file = dotenv.find_dotenv()\n",
    "load_dotenv()\n",
    "\n",
    "def get_account_credentials():\n",
    "    try:\n",
    "        SCOPES = ['https://www.googleapis.com/auth/drive']\n",
    "\n",
    "        creds = None\n",
    "        if os.environ['TOKEN'] is not None:\n",
    "            token = json.loads(os.environ['TOKEN'])\n",
    "            creds = Credentials.from_authorized_user_info(token,SCOPES)\n",
    "            \n",
    "        if not creds or not creds.valid:\n",
    "            if creds and creds.expired and creds.refresh_token:\n",
    "                creds.refresh(Request())\n",
    "                \n",
    "            else:\n",
    "                config = json.loads(os.environ['CREDENTIL'])\n",
    "                flow = InstalledAppFlow.from_clent_config(config,SCOPES)\n",
    "                \n",
    "                creds = flow.run_local_server(port=0)\n",
    "                \n",
    "            os.environ['TOKEN'] = creds.to_json()\n",
    "            \n",
    "        service = build('drive','v3',credentials=creds)\n",
    "        return service\n",
    "    \n",
    "    except Exception as e:\n",
    "        logging.error(e)"
   ]
  },
  {
   "cell_type": "code",
   "execution_count": 6,
   "id": "a79f92ff",
   "metadata": {},
   "outputs": [],
   "source": [
    "service = get_account_credentials()"
   ]
  },
  {
   "cell_type": "code",
   "execution_count": 7,
   "id": "c61f9124",
   "metadata": {},
   "outputs": [
    {
     "data": {
      "text/plain": [
       "<googleapiclient.discovery.Resource at 0x7f87ad1b22e0>"
      ]
     },
     "execution_count": 7,
     "metadata": {},
     "output_type": "execute_result"
    }
   ],
   "source": [
    "service"
   ]
  },
  {
   "cell_type": "code",
   "execution_count": 10,
   "id": "1d4e8108",
   "metadata": {},
   "outputs": [
    {
     "ename": "NameError",
     "evalue": "name 'Folder_Search' is not defined",
     "output_type": "error",
     "traceback": [
      "\u001b[0;31m---------------------------------------------------------------------------\u001b[0m",
      "\u001b[0;31mNameError\u001b[0m                                 Traceback (most recent call last)",
      "\u001b[0;32m/var/folders/z0/lhy_gc_16z13gfgt7rsyt75w0000gp/T/ipykernel_4986/1428255728.py\u001b[0m in \u001b[0;36m<module>\u001b[0;34m\u001b[0m\n\u001b[0;32m----> 1\u001b[0;31m \u001b[0mfolder_id\u001b[0m \u001b[0;34m=\u001b[0m \u001b[0mFolder_Search\u001b[0m\u001b[0;34m(\u001b[0m\u001b[0mservice\u001b[0m\u001b[0;34m,\u001b[0m\u001b[0;34m'DataScience/10INPUT/Excel'\u001b[0m\u001b[0;34m)\u001b[0m\u001b[0;34m\u001b[0m\u001b[0;34m\u001b[0m\u001b[0m\n\u001b[0m\u001b[1;32m      2\u001b[0m \u001b[0mfolder_id\u001b[0m\u001b[0;34m\u001b[0m\u001b[0;34m\u001b[0m\u001b[0m\n",
      "\u001b[0;31mNameError\u001b[0m: name 'Folder_Search' is not defined"
     ]
    }
   ],
   "source": [
    "folder_id = Folder_Search(service,'DataScience/10INPUT/Excel')\n",
    "folder_id"
   ]
  },
  {
   "cell_type": "code",
   "execution_count": null,
   "id": "39e75258",
   "metadata": {},
   "outputs": [],
   "source": []
  }
 ],
 "metadata": {
  "kernelspec": {
   "display_name": "Python 3 (ipykernel)",
   "language": "python",
   "name": "python3"
  },
  "language_info": {
   "codemirror_mode": {
    "name": "ipython",
    "version": 3
   },
   "file_extension": ".py",
   "mimetype": "text/x-python",
   "name": "python",
   "nbconvert_exporter": "python",
   "pygments_lexer": "ipython3",
   "version": "3.9.7"
  }
 },
 "nbformat": 4,
 "nbformat_minor": 5
}
